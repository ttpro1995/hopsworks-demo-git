{
 "cells": [
  {
   "cell_type": "code",
   "execution_count": 3,
   "id": "423e4cea",
   "metadata": {},
   "outputs": [
    {
     "name": "stdout",
     "output_type": "stream",
     "text": [
      "Connected. Call `.close()` to terminate connection gracefully.\n"
     ]
    }
   ],
   "source": [
    "import hsfs\n",
    "\n",
    "connection = hsfs.connection()\n",
    "fs = connection.get_feature_store()"
   ]
  },
  {
   "cell_type": "markdown",
   "id": "e8081c88",
   "metadata": {},
   "source": [
    "# Read feature"
   ]
  },
  {
   "cell_type": "code",
   "execution_count": 34,
   "id": "dce0941a",
   "metadata": {},
   "outputs": [],
   "source": []
  },
  {
   "cell_type": "code",
   "execution_count": 6,
   "id": "ad20db0a",
   "metadata": {},
   "outputs": [
    {
     "name": "stderr",
     "output_type": "stream",
     "text": [
      "VersionWarning: No version provided for getting feature group `moon_train`, defaulting to `1`.\n"
     ]
    }
   ],
   "source": [
    "moon_train_feature = fs.get_feature_group(\"moon_train\")"
   ]
  },
  {
   "cell_type": "code",
   "execution_count": 20,
   "id": "46663e9e",
   "metadata": {},
   "outputs": [
    {
     "name": "stderr",
     "output_type": "stream",
     "text": [
      "VersionWarning: No version provided for getting feature group `moon_label`, defaulting to `1`.\n"
     ]
    }
   ],
   "source": [
    "moon_label_feature = fs.get_feature_group(\"moon_label\")"
   ]
  },
  {
   "cell_type": "code",
   "execution_count": 10,
   "id": "3f20d5ae",
   "metadata": {},
   "outputs": [
    {
     "name": "stdout",
     "output_type": "stream",
     "text": [
      "Lazily executing query: SELECT `fg0`.`moon_x1`, `fg0`.`moon_x0`, `fg0`.`moon_id`\n",
      "FROM `iris_featurestore`.`moon_train_1` `fg0`\n"
     ]
    },
    {
     "data": {
      "text/html": [
       "<div>\n",
       "<style scoped>\n",
       "    .dataframe tbody tr th:only-of-type {\n",
       "        vertical-align: middle;\n",
       "    }\n",
       "\n",
       "    .dataframe tbody tr th {\n",
       "        vertical-align: top;\n",
       "    }\n",
       "\n",
       "    .dataframe thead th {\n",
       "        text-align: right;\n",
       "    }\n",
       "</style>\n",
       "<table border=\"1\" class=\"dataframe\">\n",
       "  <thead>\n",
       "    <tr style=\"text-align: right;\">\n",
       "      <th></th>\n",
       "      <th>fg0.moon_x1</th>\n",
       "      <th>fg0.moon_x0</th>\n",
       "      <th>fg0.moon_id</th>\n",
       "    </tr>\n",
       "  </thead>\n",
       "  <tbody>\n",
       "    <tr>\n",
       "      <th>0</th>\n",
       "      <td>-0.002399</td>\n",
       "      <td>-0.531473</td>\n",
       "      <td>128</td>\n",
       "    </tr>\n",
       "    <tr>\n",
       "      <th>1</th>\n",
       "      <td>1.053744</td>\n",
       "      <td>-0.246744</td>\n",
       "      <td>129</td>\n",
       "    </tr>\n",
       "    <tr>\n",
       "      <th>2</th>\n",
       "      <td>0.177072</td>\n",
       "      <td>0.495690</td>\n",
       "      <td>44</td>\n",
       "    </tr>\n",
       "    <tr>\n",
       "      <th>3</th>\n",
       "      <td>0.788009</td>\n",
       "      <td>1.704252</td>\n",
       "      <td>45</td>\n",
       "    </tr>\n",
       "    <tr>\n",
       "      <th>4</th>\n",
       "      <td>0.430901</td>\n",
       "      <td>0.181800</td>\n",
       "      <td>79</td>\n",
       "    </tr>\n",
       "  </tbody>\n",
       "</table>\n",
       "</div>"
      ],
      "text/plain": [
       "   fg0.moon_x1  fg0.moon_x0  fg0.moon_id\n",
       "0    -0.002399    -0.531473          128\n",
       "1     1.053744    -0.246744          129\n",
       "2     0.177072     0.495690           44\n",
       "3     0.788009     1.704252           45\n",
       "4     0.430901     0.181800           79"
      ]
     },
     "execution_count": 10,
     "metadata": {},
     "output_type": "execute_result"
    }
   ],
   "source": [
    "moon_train_feature.show(5)"
   ]
  },
  {
   "cell_type": "code",
   "execution_count": 17,
   "id": "d0a2b9c8",
   "metadata": {},
   "outputs": [
    {
     "name": "stdout",
     "output_type": "stream",
     "text": [
      "Lazily executing query: SELECT `fg0`.`moon_x1`, `fg0`.`moon_x0`, `fg0`.`moon_id`\n",
      "FROM `iris_featurestore`.`moon_train_1` `fg0`\n"
     ]
    }
   ],
   "source": [
    "moon_train_df = moon_train_feature.read()"
   ]
  },
  {
   "cell_type": "code",
   "execution_count": 18,
   "id": "97dbf2d4",
   "metadata": {},
   "outputs": [
    {
     "data": {
      "text/plain": [
       "pandas.core.frame.DataFrame"
      ]
     },
     "execution_count": 18,
     "metadata": {},
     "output_type": "execute_result"
    }
   ],
   "source": [
    "type(moon_train_df)"
   ]
  },
  {
   "cell_type": "code",
   "execution_count": 19,
   "id": "5105ad96",
   "metadata": {},
   "outputs": [
    {
     "data": {
      "text/html": [
       "<div>\n",
       "<style scoped>\n",
       "    .dataframe tbody tr th:only-of-type {\n",
       "        vertical-align: middle;\n",
       "    }\n",
       "\n",
       "    .dataframe tbody tr th {\n",
       "        vertical-align: top;\n",
       "    }\n",
       "\n",
       "    .dataframe thead th {\n",
       "        text-align: right;\n",
       "    }\n",
       "</style>\n",
       "<table border=\"1\" class=\"dataframe\">\n",
       "  <thead>\n",
       "    <tr style=\"text-align: right;\">\n",
       "      <th></th>\n",
       "      <th>fg0.moon_x1</th>\n",
       "      <th>fg0.moon_x0</th>\n",
       "      <th>fg0.moon_id</th>\n",
       "    </tr>\n",
       "  </thead>\n",
       "  <tbody>\n",
       "    <tr>\n",
       "      <th>0</th>\n",
       "      <td>-0.002399</td>\n",
       "      <td>-0.531473</td>\n",
       "      <td>128</td>\n",
       "    </tr>\n",
       "    <tr>\n",
       "      <th>1</th>\n",
       "      <td>1.053744</td>\n",
       "      <td>-0.246744</td>\n",
       "      <td>129</td>\n",
       "    </tr>\n",
       "    <tr>\n",
       "      <th>2</th>\n",
       "      <td>0.177072</td>\n",
       "      <td>0.495690</td>\n",
       "      <td>44</td>\n",
       "    </tr>\n",
       "    <tr>\n",
       "      <th>3</th>\n",
       "      <td>0.788009</td>\n",
       "      <td>1.704252</td>\n",
       "      <td>45</td>\n",
       "    </tr>\n",
       "    <tr>\n",
       "      <th>4</th>\n",
       "      <td>0.430901</td>\n",
       "      <td>0.181800</td>\n",
       "      <td>79</td>\n",
       "    </tr>\n",
       "  </tbody>\n",
       "</table>\n",
       "</div>"
      ],
      "text/plain": [
       "   fg0.moon_x1  fg0.moon_x0  fg0.moon_id\n",
       "0    -0.002399    -0.531473          128\n",
       "1     1.053744    -0.246744          129\n",
       "2     0.177072     0.495690           44\n",
       "3     0.788009     1.704252           45\n",
       "4     0.430901     0.181800           79"
      ]
     },
     "execution_count": 19,
     "metadata": {},
     "output_type": "execute_result"
    }
   ],
   "source": [
    "moon_train_df.head()"
   ]
  },
  {
   "cell_type": "code",
   "execution_count": 22,
   "id": "360e5430",
   "metadata": {},
   "outputs": [
    {
     "name": "stdout",
     "output_type": "stream",
     "text": [
      "Lazily executing query: SELECT `fg0`.`moon_id`, `fg0`.`moon_label`\n",
      "FROM `iris_featurestore`.`moon_label_1` `fg0`\n"
     ]
    },
    {
     "data": {
      "text/html": [
       "<div>\n",
       "<style scoped>\n",
       "    .dataframe tbody tr th:only-of-type {\n",
       "        vertical-align: middle;\n",
       "    }\n",
       "\n",
       "    .dataframe tbody tr th {\n",
       "        vertical-align: top;\n",
       "    }\n",
       "\n",
       "    .dataframe thead th {\n",
       "        text-align: right;\n",
       "    }\n",
       "</style>\n",
       "<table border=\"1\" class=\"dataframe\">\n",
       "  <thead>\n",
       "    <tr style=\"text-align: right;\">\n",
       "      <th></th>\n",
       "      <th>fg0.moon_id</th>\n",
       "      <th>fg0.moon_label</th>\n",
       "    </tr>\n",
       "  </thead>\n",
       "  <tbody>\n",
       "    <tr>\n",
       "      <th>0</th>\n",
       "      <td>77</td>\n",
       "      <td>1</td>\n",
       "    </tr>\n",
       "    <tr>\n",
       "      <th>1</th>\n",
       "      <td>10</td>\n",
       "      <td>0</td>\n",
       "    </tr>\n",
       "    <tr>\n",
       "      <th>2</th>\n",
       "      <td>44</td>\n",
       "      <td>1</td>\n",
       "    </tr>\n",
       "    <tr>\n",
       "      <th>3</th>\n",
       "      <td>11</td>\n",
       "      <td>1</td>\n",
       "    </tr>\n",
       "    <tr>\n",
       "      <th>4</th>\n",
       "      <td>171</td>\n",
       "      <td>0</td>\n",
       "    </tr>\n",
       "  </tbody>\n",
       "</table>\n",
       "</div>"
      ],
      "text/plain": [
       "   fg0.moon_id  fg0.moon_label\n",
       "0           77               1\n",
       "1           10               0\n",
       "2           44               1\n",
       "3           11               1\n",
       "4          171               0"
      ]
     },
     "execution_count": 22,
     "metadata": {},
     "output_type": "execute_result"
    }
   ],
   "source": [
    "moon_label_feature.show(5)"
   ]
  },
  {
   "cell_type": "code",
   "execution_count": 23,
   "id": "db2083f6",
   "metadata": {},
   "outputs": [
    {
     "name": "stdout",
     "output_type": "stream",
     "text": [
      "Lazily executing query: SELECT `fg0`.`moon_id`, `fg0`.`moon_label`\n",
      "FROM `iris_featurestore`.`moon_label_1` `fg0`\n",
      "<class 'pandas.core.frame.DataFrame'>\n"
     ]
    }
   ],
   "source": [
    "moon_label_df = moon_label_feature.read()\n",
    "print(type(moon_label_df))"
   ]
  },
  {
   "cell_type": "code",
   "execution_count": 24,
   "id": "c418a7e0",
   "metadata": {},
   "outputs": [
    {
     "data": {
      "text/html": [
       "<div>\n",
       "<style scoped>\n",
       "    .dataframe tbody tr th:only-of-type {\n",
       "        vertical-align: middle;\n",
       "    }\n",
       "\n",
       "    .dataframe tbody tr th {\n",
       "        vertical-align: top;\n",
       "    }\n",
       "\n",
       "    .dataframe thead th {\n",
       "        text-align: right;\n",
       "    }\n",
       "</style>\n",
       "<table border=\"1\" class=\"dataframe\">\n",
       "  <thead>\n",
       "    <tr style=\"text-align: right;\">\n",
       "      <th></th>\n",
       "      <th>fg0.moon_id</th>\n",
       "      <th>fg0.moon_label</th>\n",
       "    </tr>\n",
       "  </thead>\n",
       "  <tbody>\n",
       "    <tr>\n",
       "      <th>0</th>\n",
       "      <td>77</td>\n",
       "      <td>1</td>\n",
       "    </tr>\n",
       "    <tr>\n",
       "      <th>1</th>\n",
       "      <td>10</td>\n",
       "      <td>0</td>\n",
       "    </tr>\n",
       "    <tr>\n",
       "      <th>2</th>\n",
       "      <td>44</td>\n",
       "      <td>1</td>\n",
       "    </tr>\n",
       "    <tr>\n",
       "      <th>3</th>\n",
       "      <td>11</td>\n",
       "      <td>1</td>\n",
       "    </tr>\n",
       "    <tr>\n",
       "      <th>4</th>\n",
       "      <td>171</td>\n",
       "      <td>0</td>\n",
       "    </tr>\n",
       "  </tbody>\n",
       "</table>\n",
       "</div>"
      ],
      "text/plain": [
       "   fg0.moon_id  fg0.moon_label\n",
       "0           77               1\n",
       "1           10               0\n",
       "2           44               1\n",
       "3           11               1\n",
       "4          171               0"
      ]
     },
     "execution_count": 24,
     "metadata": {},
     "output_type": "execute_result"
    }
   ],
   "source": [
    "moon_label_df.head()"
   ]
  },
  {
   "cell_type": "code",
   "execution_count": 27,
   "id": "ad608722",
   "metadata": {},
   "outputs": [],
   "source": [
    "## Join "
   ]
  },
  {
   "cell_type": "code",
   "execution_count": null,
   "id": "77ebef76",
   "metadata": {},
   "outputs": [],
   "source": []
  },
  {
   "cell_type": "code",
   "execution_count": null,
   "id": "ae3d9096",
   "metadata": {},
   "outputs": [],
   "source": [
    "# Join "
   ]
  },
  {
   "cell_type": "code",
   "execution_count": 33,
   "id": "a17944d2",
   "metadata": {},
   "outputs": [
    {
     "name": "stdout",
     "output_type": "stream",
     "text": [
      "<class 'hsfs.constructor.query.Query'>\n",
      "SELECT `fg1`.`moon_id`, `fg1`.`moon_label`, `fg0`.`moon_x1`, `fg0`.`moon_x0`\n",
      "FROM `iris_featurestore`.`moon_label_1` `fg1`\n",
      "INNER JOIN `iris_featurestore`.`moon_train_1` `fg0` ON `fg1`.`moon_id` = `fg0`.`moon_id`\n"
     ]
    }
   ],
   "source": [
    "moon_feature_label = moon_label_feature.select_all().join(moon_train_feature.select_all())\n",
    "print(type(moon_feature_label))\n",
    "print(moon_feature_label.to_string())"
   ]
  },
  {
   "cell_type": "code",
   "execution_count": 32,
   "id": "27781966",
   "metadata": {},
   "outputs": [
    {
     "name": "stdout",
     "output_type": "stream",
     "text": [
      "Lazily executing query: SELECT `fg1`.`moon_id`, `fg1`.`moon_label`, `fg0`.`moon_x1`, `fg0`.`moon_x0`\n",
      "FROM `iris_featurestore`.`moon_label_1` `fg1`\n",
      "INNER JOIN `iris_featurestore`.`moon_train_1` `fg0` ON `fg1`.`moon_id` = `fg0`.`moon_id`\n"
     ]
    },
    {
     "data": {
      "text/html": [
       "<div>\n",
       "<style scoped>\n",
       "    .dataframe tbody tr th:only-of-type {\n",
       "        vertical-align: middle;\n",
       "    }\n",
       "\n",
       "    .dataframe tbody tr th {\n",
       "        vertical-align: top;\n",
       "    }\n",
       "\n",
       "    .dataframe thead th {\n",
       "        text-align: right;\n",
       "    }\n",
       "</style>\n",
       "<table border=\"1\" class=\"dataframe\">\n",
       "  <thead>\n",
       "    <tr style=\"text-align: right;\">\n",
       "      <th></th>\n",
       "      <th>fg1.moon_id</th>\n",
       "      <th>fg1.moon_label</th>\n",
       "      <th>fg0.moon_x1</th>\n",
       "      <th>fg0.moon_x0</th>\n",
       "    </tr>\n",
       "  </thead>\n",
       "  <tbody>\n",
       "    <tr>\n",
       "      <th>0</th>\n",
       "      <td>77</td>\n",
       "      <td>1</td>\n",
       "      <td>-0.584700</td>\n",
       "      <td>0.634408</td>\n",
       "    </tr>\n",
       "    <tr>\n",
       "      <th>1</th>\n",
       "      <td>11</td>\n",
       "      <td>1</td>\n",
       "      <td>-0.288085</td>\n",
       "      <td>2.018884</td>\n",
       "    </tr>\n",
       "    <tr>\n",
       "      <th>2</th>\n",
       "      <td>13</td>\n",
       "      <td>0</td>\n",
       "      <td>0.352505</td>\n",
       "      <td>-0.902532</td>\n",
       "    </tr>\n",
       "    <tr>\n",
       "      <th>3</th>\n",
       "      <td>47</td>\n",
       "      <td>0</td>\n",
       "      <td>0.644222</td>\n",
       "      <td>0.915011</td>\n",
       "    </tr>\n",
       "    <tr>\n",
       "      <th>4</th>\n",
       "      <td>142</td>\n",
       "      <td>1</td>\n",
       "      <td>0.230853</td>\n",
       "      <td>1.492350</td>\n",
       "    </tr>\n",
       "  </tbody>\n",
       "</table>\n",
       "</div>"
      ],
      "text/plain": [
       "   fg1.moon_id  fg1.moon_label  fg0.moon_x1  fg0.moon_x0\n",
       "0           77               1    -0.584700     0.634408\n",
       "1           11               1    -0.288085     2.018884\n",
       "2           13               0     0.352505    -0.902532\n",
       "3           47               0     0.644222     0.915011\n",
       "4          142               1     0.230853     1.492350"
      ]
     },
     "execution_count": 32,
     "metadata": {},
     "output_type": "execute_result"
    }
   ],
   "source": [
    "moon_feature_label.show(5)"
   ]
  },
  {
   "cell_type": "code",
   "execution_count": null,
   "id": "28f10015",
   "metadata": {},
   "outputs": [],
   "source": []
  }
 ],
 "metadata": {
  "kernelspec": {
   "display_name": "Python",
   "language": "python",
   "name": "python3"
  },
  "language_info": {
   "codemirror_mode": {
    "name": "ipython",
    "version": 3
   },
   "file_extension": ".py",
   "mimetype": "text/x-python",
   "name": "python",
   "nbconvert_exporter": "python",
   "pygments_lexer": "ipython3",
   "version": "3.7.9"
  }
 },
 "nbformat": 4,
 "nbformat_minor": 5
}