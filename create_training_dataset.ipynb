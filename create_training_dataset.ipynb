{
 "cells": [
  {
   "cell_type": "code",
   "execution_count": 2,
   "id": "b7a3e63b",
   "metadata": {},
   "outputs": [
    {
     "name": "stdout",
     "output_type": "stream",
     "text": [
      "Connected. Call `.close()` to terminate connection gracefully.\n"
     ]
    }
   ],
   "source": [
    "import hsfs\n",
    "# Create a connection\n",
    "connection = hsfs.connection()\n",
    "# Get the feature store handle for the project's feature store\n",
    "fs = connection.get_feature_store()"
   ]
  },
  {
   "cell_type": "code",
   "execution_count": 4,
   "id": "388b4c6c",
   "metadata": {},
   "outputs": [],
   "source": [
    "# Create training dataset"
   ]
  },
  {
   "cell_type": "code",
   "execution_count": 3,
   "id": "110c1556",
   "metadata": {},
   "outputs": [
    {
     "name": "stderr",
     "output_type": "stream",
     "text": [
      "VersionWarning: No version provided for getting feature group `moon_train`, defaulting to `1`.\n"
     ]
    }
   ],
   "source": [
    "moon_train_feature = fs.get_feature_group(\"moon_train\")"
   ]
  },
  {
   "cell_type": "code",
   "execution_count": 4,
   "id": "535ef442",
   "metadata": {},
   "outputs": [
    {
     "name": "stderr",
     "output_type": "stream",
     "text": [
      "VersionWarning: No version provided for getting feature group `moon_label`, defaulting to `1`.\n"
     ]
    }
   ],
   "source": [
    "moon_label_feature = fs.get_feature_group(\"moon_label\")"
   ]
  },
  {
   "cell_type": "code",
   "execution_count": 5,
   "id": "e15791ac",
   "metadata": {},
   "outputs": [
    {
     "data": {
      "text/plain": [
       "hsfs.feature_group.FeatureGroup"
      ]
     },
     "execution_count": 5,
     "metadata": {},
     "output_type": "execute_result"
    }
   ],
   "source": [
    "type(moon_train_feature)\n"
   ]
  },
  {
   "cell_type": "code",
   "execution_count": 6,
   "id": "5298e8b3",
   "metadata": {},
   "outputs": [],
   "source": [
    "join_training = moon_train_feature.select_all().join(moon_label_feature.select_all())"
   ]
  },
  {
   "cell_type": "code",
   "execution_count": 11,
   "id": "b75cb7b0",
   "metadata": {},
   "outputs": [
    {
     "name": "stdout",
     "output_type": "stream",
     "text": [
      "SELECT `fg1`.`moon_x1`, `fg1`.`moon_x0`, `fg1`.`moon_id`, `fg0`.`moon_label`\n",
      "FROM `iris_featurestore`.`moon_train_1` `fg1`\n",
      "INNER JOIN `iris_featurestore`.`moon_label_1` `fg0` ON `fg1`.`moon_id` = `fg0`.`moon_id`\n"
     ]
    }
   ],
   "source": [
    "print(join_training.to_string())"
   ]
  },
  {
   "cell_type": "code",
   "execution_count": 12,
   "id": "c7673e93",
   "metadata": {},
   "outputs": [
    {
     "name": "stdout",
     "output_type": "stream",
     "text": [
      "Training dataset job started successfully, you can follow the progress at https://hopsworks.glassfish.service.consul:8182/hopsworks/#!/project/388/jobs\n"
     ]
    },
    {
     "data": {
      "text/plain": [
       "<hsfs.training_dataset.TrainingDataset at 0x7f40eed5b590>"
      ]
     },
     "execution_count": 12,
     "metadata": {},
     "output_type": "execute_result"
    }
   ],
   "source": [
    "\n",
    "\n",
    "td = fs.create_training_dataset(name=\"moon_training_dataset\",\n",
    "                               description=\"Dataset to train the moon model\",\n",
    "                               data_format=\"parquet\",\n",
    "                               splits={'train': 0.7, 'test': 0.2, 'validate': 0.1},\n",
    "                               version=1)\n",
    "\n",
    "td.save(join_training)\n",
    "\n"
   ]
  },
  {
   "cell_type": "code",
   "execution_count": 7,
   "id": "6d885d14",
   "metadata": {},
   "outputs": [
    {
     "name": "stdout",
     "output_type": "stream",
     "text": [
      "Training dataset job started successfully, you can follow the progress at https://hopsworks.glassfish.service.consul:8182/hopsworks/#!/project/388/jobs\n"
     ]
    },
    {
     "data": {
      "text/plain": [
       "<hsfs.training_dataset.TrainingDataset at 0x7f3522410dd0>"
      ]
     },
     "execution_count": 7,
     "metadata": {},
     "output_type": "execute_result"
    }
   ],
   "source": [
    "\n",
    "\n",
    "td2 = fs.create_training_dataset(name=\"moon_training_dataset\",\n",
    "                               description=\"Dataset to train the moon model\",\n",
    "                               data_format=\"parquet\",\n",
    "                               splits={'train': 0.7, 'test': 0.2, 'validate': 0.1},\n",
    "                               version=2)\n",
    "\n",
    "td2.save(join_training)\n",
    "\n"
   ]
  },
  {
   "cell_type": "code",
   "execution_count": 8,
   "id": "828df3f9",
   "metadata": {},
   "outputs": [
    {
     "name": "stdout",
     "output_type": "stream",
     "text": [
      "Training dataset job started successfully, you can follow the progress at https://hopsworks.glassfish.service.consul:8182/hopsworks/#!/project/388/jobs\n"
     ]
    },
    {
     "data": {
      "text/plain": [
       "<hsfs.training_dataset.TrainingDataset at 0x7f352241bd90>"
      ]
     },
     "execution_count": 8,
     "metadata": {},
     "output_type": "execute_result"
    }
   ],
   "source": [
    "\n",
    "\n",
    "td3 = fs.create_training_dataset(name=\"moon_training_dataset\",\n",
    "                               description=\"Dataset to train the moon model\",\n",
    "                               data_format=\"csv\",\n",
    "                               splits={'train': 0.7, 'test': 0.2, 'validate': 0.1},\n",
    "                               version=3)\n",
    "\n",
    "td3.save(join_training)\n",
    "\n"
   ]
  },
  {
   "cell_type": "code",
   "execution_count": 9,
   "id": "47aebbe6",
   "metadata": {},
   "outputs": [
    {
     "name": "stdout",
     "output_type": "stream",
     "text": [
      "Training dataset job started successfully, you can follow the progress at https://hopsworks.glassfish.service.consul:8182/hopsworks/#!/project/388/jobs\n"
     ]
    },
    {
     "data": {
      "text/plain": [
       "<hsfs.training_dataset.TrainingDataset at 0x7f35223cb590>"
      ]
     },
     "execution_count": 9,
     "metadata": {},
     "output_type": "execute_result"
    }
   ],
   "source": [
    "\n",
    "\n",
    "td4 = fs.create_training_dataset(name=\"moon_training_dataset\",\n",
    "                               description=\"Dataset to train the moon model\",\n",
    "                               data_format=\"csv\",\n",
    "                               splits={'train': 0.7, 'test': 0.2, 'validate': 0.1},\n",
    "                               version=4)\n",
    "\n",
    "td4.save(join_training, {'hearder': 'true'})\n",
    "\n"
   ]
  },
  {
   "cell_type": "code",
   "execution_count": null,
   "id": "3fa56596",
   "metadata": {},
   "outputs": [],
   "source": []
  }
 ],
 "metadata": {
  "kernelspec": {
   "display_name": "Python",
   "language": "python",
   "name": "python3"
  },
  "language_info": {
   "codemirror_mode": {
    "name": "ipython",
    "version": 3
   },
   "file_extension": ".py",
   "mimetype": "text/x-python",
   "name": "python",
   "nbconvert_exporter": "python",
   "pygments_lexer": "ipython3",
   "version": "3.7.9"
  }
 },
 "nbformat": 4,
 "nbformat_minor": 5
}