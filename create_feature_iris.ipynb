{
 "cells": [
  {
   "cell_type": "code",
   "execution_count": 2,
   "metadata": {},
   "outputs": [
    {
     "name": "stdout",
     "output_type": "stream",
     "text": [
      "<pyspark.sql.session.SparkSession object at 0x7fd8c6ee5ac8>"
     ]
    }
   ],
   "source": [
    "spark"
   ]
  },
  {
   "cell_type": "code",
   "execution_count": 4,
   "metadata": {},
   "outputs": [],
   "source": [
    "path = \"hdfs:///Projects/mewo_project/RawDataset/Iris.csv\""
   ]
  },
  {
   "cell_type": "code",
   "execution_count": 23,
   "metadata": {},
   "outputs": [],
   "source": [
    "def column_name_lower_case(df):\n",
    "    new_col_name = [item.lower() for item in df.columns]\n",
    "    new_df = df\n",
    "    for old_col, new_col in zip(df.columns, new_col_name):\n",
    "        new_df = new_df.withColumnRenamed(old_col, new_col)\n",
    "        print(\"rename from \", old_col, new_col)\n",
    "    return new_df    "
   ]
  },
  {
   "cell_type": "code",
   "execution_count": 24,
   "metadata": {},
   "outputs": [],
   "source": [
    "df = spark.read.csv(path, header=True)"
   ]
  },
  {
   "cell_type": "code",
   "execution_count": 25,
   "metadata": {},
   "outputs": [
    {
     "name": "stdout",
     "output_type": "stream",
     "text": [
      "Row(Id='1', SepalLengthCm='5.1', SepalWidthCm='3.5', PetalLengthCm='1.4', PetalWidthCm='0.2', Species='Iris-setosa')"
     ]
    }
   ],
   "source": [
    "df.head()"
   ]
  },
  {
   "cell_type": "code",
   "execution_count": 26,
   "metadata": {},
   "outputs": [
    {
     "name": "stdout",
     "output_type": "stream",
     "text": [
      "rename from  Id id\n",
      "rename from  SepalLengthCm sepallengthcm\n",
      "rename from  SepalWidthCm sepalwidthcm\n",
      "rename from  PetalLengthCm petallengthcm\n",
      "rename from  PetalWidthCm petalwidthcm\n",
      "rename from  Species species"
     ]
    }
   ],
   "source": [
    "df_lower = column_name_lower_case(df)"
   ]
  },
  {
   "cell_type": "code",
   "execution_count": 27,
   "metadata": {},
   "outputs": [
    {
     "name": "stdout",
     "output_type": "stream",
     "text": [
      "Row(id='1', sepallengthcm='5.1', sepalwidthcm='3.5', petallengthcm='1.4', petalwidthcm='0.2', species='Iris-setosa')"
     ]
    }
   ],
   "source": [
    "df_lower.head()"
   ]
  },
  {
   "cell_type": "code",
   "execution_count": 29,
   "metadata": {},
   "outputs": [
    {
     "name": "stdout",
     "output_type": "stream",
     "text": [
      "computing descriptive statistics for : iris, version: 1\n",
      "computing feature correlation for: iris, version: 1\n",
      "Could not compute feature correlation for: iris, version: 1, set the optional argument feature_correlation=False to skip this step,\n",
      " error: The provided spark dataframe does not contain any numeric columns. Cannot compute feature correlation on categorical columns. The numeric datatypes are: ['bigint', 'decimal', 'integer', 'int', 'double', 'long', 'float', 'short'] and the number of numeric datatypes in the dataframe is: 0 ([])\n",
      "computing feature histograms for: iris, version: 1\n",
      "computing cluster analysis for: iris, version: 1\n",
      "Could not compute cluster analysis for: iris, version: 1, set the optional argument cluster_analysis=False to skip this step,\n",
      " error: The provided spark dataframe does not contain any numeric columns. Cannot compute cluster analysis with k-means on categorical columns. The numeric datatypes are: ['bigint', 'decimal', 'integer', 'int', 'double', 'long', 'float', 'short'] and the number of numeric datatypes in the dataframe is: 0 ([])\n",
      "Registering feature metadata...\n",
      "Registering feature metadata... [COMPLETE]\n",
      "Writing feature data to offline feature group (Hive)...\n",
      "Running sql: use mewo_project_featurestore against offline feature store\n",
      "Writing feature data to offline feature group (Hive)... [COMPLETE]\n",
      "Feature group created successfully"
     ]
    }
   ],
   "source": [
    "from hops import featurestore\n",
    "featurestore.create_featuregroup(df_lower, \"iris\")"
   ]
  },
  {
   "cell_type": "code",
   "execution_count": null,
   "metadata": {},
   "outputs": [],
   "source": []
  }
 ],
 "metadata": {
  "kernelspec": {
   "display_name": "PySpark",
   "language": "python",
   "name": "pysparkkernel"
  },
  "language_info": {
   "codemirror_mode": {
    "name": "python",
    "version": 3
   },
   "mimetype": "text/x-python",
   "name": "pyspark",
   "pygments_lexer": "python3"
  }
 },
 "nbformat": 4,
 "nbformat_minor": 4
}